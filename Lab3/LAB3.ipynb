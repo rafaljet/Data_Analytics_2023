{
 "cells": [
  {
   "cell_type": "code",
   "execution_count": 1,
   "id": "ab9583ba",
   "metadata": {},
   "outputs": [
    {
     "name": "stderr",
     "output_type": "stream",
     "text": [
      "C:\\Users\\rafal\\AppData\\Local\\Programs\\Python\\Python310\\lib\\site-packages\\tqdm\\auto.py:21: TqdmWarning: IProgress not found. Please update jupyter and ipywidgets. See https://ipywidgets.readthedocs.io/en/stable/user_install.html\n",
      "  from .autonotebook import tqdm as notebook_tqdm\n",
      "14:19:27 - cmdstanpy - INFO - CmdStan start processing\n",
      "chain 1 |\u001b[34m████████████████████████████████████████████████████████████████████████████████████\u001b[0m| 00:00 Sampling completed\u001b[0m"
     ]
    },
    {
     "name": "stdout",
     "output_type": "stream",
     "text": [
      "                                                                                                                        "
     ]
    },
    {
     "name": "stderr",
     "output_type": "stream",
     "text": [
      "\n",
      "14:19:27 - cmdstanpy - INFO - CmdStan done processing.\n"
     ]
    },
    {
     "name": "stdout",
     "output_type": "stream",
     "text": [
      "\n"
     ]
    },
    {
     "data": {
      "image/png": "[encoded data removed]",
      "text/plain": [
       "<Figure size 640x480 with 1 Axes>"
      ]
     },
     "metadata": {},
     "output_type": "display_data"
    }
   ],
   "source": [
    "from cmdstanpy import CmdStanModel\n",
    "import pandas as pd\n",
    "import arviz as az \n",
    "import numpy as np\n",
    "import matplotlib.pyplot as plt\n",
    "import scipy.stats as stats\n",
    "\n",
    "# compile the model\n",
    "priormodel = CmdStanModel(stan_file='prior.stan')\n",
    "\n",
    "# generate samples\n",
    "samples = priormodel.sample(fixed_param=True, iter_sampling=1000, iter_warmup=0, chains=1)\n",
    "\n",
    "# calculate ratio of allergic reactions for each sample\n",
    "calratio =samples.draws_pd()\n",
    "ratios =[]\n",
    "for i in range(1000):\n",
    "    ratios.append(calratio.y[i]/50)\n",
    "\n",
    "# create histogram of ratios\n",
    "plt.hist(ratios, bins=50)\n",
    "plt.xlabel('Ratio of allergic reactions')\n",
    "plt.ylabel('Number of cases')\n",
    "plt.show()"
   ]
  },
  {
   "cell_type": "code",
   "execution_count": null,
   "id": "7d9e1598",
   "metadata": {},
   "outputs": [],
   "source": []
  },
  {
   "cell_type": "code",
   "execution_count": 9,
   "id": "ab8464f5",
   "metadata": {},
   "outputs": [
    {
     "data": {
      "text/plain": [
       "0.19310000000000002"
      ]
     },
     "execution_count": 9,
     "metadata": {},
     "output_type": "execute_result"
    }
   ],
   "source": [
    "meanratio=np.mean(ratios)\n",
    "meanratio"
   ]
  },
  {
   "cell_type": "code",
   "execution_count": 10,
   "id": "bcd3fc83",
   "metadata": {},
   "outputs": [
    {
     "name": "stderr",
     "output_type": "stream",
     "text": [
      "14:21:41 - cmdstanpy - INFO - CmdStan start processing\n",
      "chain 1 |\u001b[34m████████████████████████████████████████████████████████████████████████████████████\u001b[0m| 00:00 Sampling completed\u001b[0m"
     ]
    },
    {
     "name": "stdout",
     "output_type": "stream",
     "text": [
      "                                                                                                                        "
     ]
    },
    {
     "name": "stderr",
     "output_type": "stream",
     "text": [
      "\n",
      "14:21:42 - cmdstanpy - INFO - CmdStan done processing.\n"
     ]
    },
    {
     "name": "stdout",
     "output_type": "stream",
     "text": [
      "\n"
     ]
    }
   ],
   "source": [
    "posteriormodel = CmdStanModel(stan_file='posterior.stan')\n",
    "\n",
    "# generate samples\n",
    "samples2=posteriormodel.sample(data={'N':50, 'y':7},fixed_param=True, iter_sampling=1000, iter_warmup=0, chains=1)\n"
   ]
  },
  {
   "cell_type": "code",
   "execution_count": 11,
   "id": "2741bd15",
   "metadata": {},
   "outputs": [],
   "source": [
    "#Prior predicted value is correct to computed analyze"
   ]
  },
  {
   "cell_type": "code",
   "execution_count": 12,
   "id": "601309d1",
   "metadata": {},
   "outputs": [],
   "source": [
    "#Posterior distribution"
   ]
  },
  {
   "cell_type": "code",
   "execution_count": 13,
   "id": "f868c0c3",
   "metadata": {},
   "outputs": [
    {
     "data": {
      "text/html": [
       "<div>\n",
       "<style scoped>\n",
       "    .dataframe tbody tr th:only-of-type {\n",
       "        vertical-align: middle;\n",
       "    }\n",
       "\n",
       "    .dataframe tbody tr th {\n",
       "        vertical-align: top;\n",
       "    }\n",
       "\n",
       "    .dataframe thead th {\n",
       "        text-align: right;\n",
       "    }\n",
       "</style>\n",
       "<table border=\"1\" class=\"dataframe\">\n",
       "  <thead>\n",
       "    <tr style=\"text-align: right;\">\n",
       "      <th></th>\n",
       "      <th>lp__</th>\n",
       "      <th>accept_stat__</th>\n",
       "      <th>p</th>\n",
       "      <th>y_pred</th>\n",
       "    </tr>\n",
       "  </thead>\n",
       "  <tbody>\n",
       "    <tr>\n",
       "      <th>0</th>\n",
       "      <td>0.0</td>\n",
       "      <td>0.0</td>\n",
       "      <td>0.319436</td>\n",
       "      <td>16.0</td>\n",
       "    </tr>\n",
       "    <tr>\n",
       "      <th>1</th>\n",
       "      <td>0.0</td>\n",
       "      <td>0.0</td>\n",
       "      <td>0.319436</td>\n",
       "      <td>14.0</td>\n",
       "    </tr>\n",
       "    <tr>\n",
       "      <th>2</th>\n",
       "      <td>0.0</td>\n",
       "      <td>0.0</td>\n",
       "      <td>0.319436</td>\n",
       "      <td>17.0</td>\n",
       "    </tr>\n",
       "    <tr>\n",
       "      <th>3</th>\n",
       "      <td>0.0</td>\n",
       "      <td>0.0</td>\n",
       "      <td>0.319436</td>\n",
       "      <td>16.0</td>\n",
       "    </tr>\n",
       "    <tr>\n",
       "      <th>4</th>\n",
       "      <td>0.0</td>\n",
       "      <td>0.0</td>\n",
       "      <td>0.319436</td>\n",
       "      <td>14.0</td>\n",
       "    </tr>\n",
       "    <tr>\n",
       "      <th>...</th>\n",
       "      <td>...</td>\n",
       "      <td>...</td>\n",
       "      <td>...</td>\n",
       "      <td>...</td>\n",
       "    </tr>\n",
       "    <tr>\n",
       "      <th>995</th>\n",
       "      <td>0.0</td>\n",
       "      <td>0.0</td>\n",
       "      <td>0.319436</td>\n",
       "      <td>11.0</td>\n",
       "    </tr>\n",
       "    <tr>\n",
       "      <th>996</th>\n",
       "      <td>0.0</td>\n",
       "      <td>0.0</td>\n",
       "      <td>0.319436</td>\n",
       "      <td>19.0</td>\n",
       "    </tr>\n",
       "    <tr>\n",
       "      <th>997</th>\n",
       "      <td>0.0</td>\n",
       "      <td>0.0</td>\n",
       "      <td>0.319436</td>\n",
       "      <td>18.0</td>\n",
       "    </tr>\n",
       "    <tr>\n",
       "      <th>998</th>\n",
       "      <td>0.0</td>\n",
       "      <td>0.0</td>\n",
       "      <td>0.319436</td>\n",
       "      <td>17.0</td>\n",
       "    </tr>\n",
       "    <tr>\n",
       "      <th>999</th>\n",
       "      <td>0.0</td>\n",
       "      <td>0.0</td>\n",
       "      <td>0.319436</td>\n",
       "      <td>19.0</td>\n",
       "    </tr>\n",
       "  </tbody>\n",
       "</table>\n",
       "<p>1000 rows × 4 columns</p>\n",
       "</div>"
      ],
      "text/plain": [
       "     lp__  accept_stat__         p  y_pred\n",
       "0     0.0            0.0  0.319436    16.0\n",
       "1     0.0            0.0  0.319436    14.0\n",
       "2     0.0            0.0  0.319436    17.0\n",
       "3     0.0            0.0  0.319436    16.0\n",
       "4     0.0            0.0  0.319436    14.0\n",
       "..    ...            ...       ...     ...\n",
       "995   0.0            0.0  0.319436    11.0\n",
       "996   0.0            0.0  0.319436    19.0\n",
       "997   0.0            0.0  0.319436    18.0\n",
       "998   0.0            0.0  0.319436    17.0\n",
       "999   0.0            0.0  0.319436    19.0\n",
       "\n",
       "[1000 rows x 4 columns]"
      ]
     },
     "execution_count": 13,
     "metadata": {},
     "output_type": "execute_result"
    }
   ],
   "source": [
    "df_1 = samples2.draws_pd()\n",
    "df_1"
   ]
  },
  {
   "cell_type": "code",
   "execution_count": 14,
   "id": "7350662d",
   "metadata": {},
   "outputs": [],
   "source": [
    "y_pred_samples = samples2.stan_variable(\"y_pred\")"
   ]
  },
  {
   "cell_type": "code",
   "execution_count": 15,
   "id": "cadc1fea",
   "metadata": {},
   "outputs": [],
   "source": [
    "allergic_reaction_ratio_1 = y_pred_samples / 50"
   ]
  },
  {
   "cell_type": "code",
   "execution_count": 16,
   "id": "72bb1889",
   "metadata": {},
   "outputs": [
    {
     "data": {
      "image/png": "[encoded data removed]",
      "text/plain": [
       "<Figure size 640x480 with 1 Axes>"
      ]
     },
     "metadata": {},
     "output_type": "display_data"
    }
   ],
   "source": [
    "plt.hist(allergic_reaction_ratio_1, bins=50)\n",
    "plt.xlabel('Ratio of allergic reactions')\n",
    "plt.ylabel('Number of cases')\n",
    "plt.show()"
   ]
  },
  {
   "cell_type": "code",
   "execution_count": 17,
   "id": "29c7e659",
   "metadata": {},
   "outputs": [
    {
     "data": {
      "text/plain": [
       "0.32152"
      ]
     },
     "execution_count": 17,
     "metadata": {},
     "output_type": "execute_result"
    }
   ],
   "source": [
    "meanratio2=allergic_reaction_ratio_1.mean()\n",
    "meanratio2"
   ]
  },
  {
   "cell_type": "code",
   "execution_count": 18,
   "id": "62e473d1",
   "metadata": {},
   "outputs": [
    {
     "name": "stderr",
     "output_type": "stream",
     "text": [
      "arviz - WARNING - Shape validation failed: input_shape: (1, 1000), minimum_shape: (chains=2, draws=4)\n",
      "arviz - WARNING - Shape validation failed: input_shape: (1, 1000), minimum_shape: (chains=2, draws=4)\n"
     ]
    }
   ],
   "source": [
    "#compute expected value and 94% density interval of predicted ratio \n",
    "ratio_ci = az.from_dict(posterior={'p':df_1.p, 'ratio': allergic_reaction_ratio_1})\n",
    "\n",
    "p  = az.summary(ratio_ci, var_names='p', hdi_prob=0.94,round_to=3)\n",
    "allergic_rate = az.summary(ratio_ci, var_names='ratio', hdi_prob=0.94, round_to=3)"
   ]
  },
  {
   "cell_type": "code",
   "execution_count": 19,
   "id": "b361a7af",
   "metadata": {},
   "outputs": [
    {
     "name": "stdout",
     "output_type": "stream",
     "text": [
      "    mean   sd  hdi_3%  hdi_97%  mcse_mean  mcse_sd  ess_bulk  ess_tail  r_hat\n",
      "p  0.319  0.0   0.319    0.319        0.0      0.0    1000.0    1000.0    NaN\n"
     ]
    }
   ],
   "source": [
    "print(p)"
   ]
  },
  {
   "cell_type": "code",
   "execution_count": 20,
   "id": "be8540de",
   "metadata": {},
   "outputs": [
    {
     "name": "stdout",
     "output_type": "stream",
     "text": [
      "        mean     sd  hdi_3%  hdi_97%  mcse_mean  mcse_sd  ess_bulk  ess_tail  \\\n",
      "ratio  0.322  0.068     0.2     0.44      0.002    0.002   793.914   953.777   \n",
      "\n",
      "       r_hat  \n",
      "ratio    NaN  \n"
     ]
    }
   ],
   "source": [
    "print(allergic_rate)"
   ]
  },
  {
   "cell_type": "code",
   "execution_count": 21,
   "id": "ada1c7c7",
   "metadata": {},
   "outputs": [
    {
     "name": "stdout",
     "output_type": "stream",
     "text": [
      "Probability that ratio is lower than traditional vaccines: 2.10%\n"
     ]
    }
   ],
   "source": [
    "trad_p = 0.2\n",
    "ratio_count = (allergic_reaction_ratio_1 < trad_p).sum()\n",
    "ratio_prob = ratio_count/len(allergic_reaction_ratio_1)\n",
    "print('Probability that ratio is lower than traditional vaccines: {:.2f}%'.format(ratio_prob*100))"
   ]
  },
  {
   "cell_type": "code",
   "execution_count": null,
   "id": "ecf6d966",
   "metadata": {},
   "outputs": [],
   "source": []
  }
 ],
 "metadata": {
  "kernelspec": {
   "display_name": "Python 3 (ipykernel)",
   "language": "python",
   "name": "python3"
  },
  "language_info": {
   "codemirror_mode": {
    "name": "ipython",
    "version": 3
   },
   "file_extension": ".py",
   "mimetype": "text/x-python",
   "name": "python",
   "nbconvert_exporter": "python",
   "pygments_lexer": "ipython3",
   "version": "3.10.10"
  }
 },
 "nbformat": 4,
 "nbformat_minor": 5
}
